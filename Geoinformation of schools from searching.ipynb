{
 "cells": [
  {
   "cell_type": "markdown",
   "metadata": {},
   "source": [
    "# Geoinformation of schools from searching"
   ]
  },
  {
   "cell_type": "code",
   "execution_count": 1,
   "metadata": {},
   "outputs": [],
   "source": [
    "from geopy.geocoders import Nominatim\n",
    "import numpy as np\n",
    "import pandas as pd"
   ]
  },
  {
   "cell_type": "code",
   "execution_count": 2,
   "metadata": {},
   "outputs": [
    {
     "data": {
      "text/plain": [
       "'Petrie Museum of Egyptian Archeology, Malet Place, St Pancras, London Borough of Camden, London, Greater London, England, WC1E 6BT, United Kingdom'"
      ]
     },
     "execution_count": 2,
     "metadata": {},
     "output_type": "execute_result"
    }
   ],
   "source": [
    "geolocator = Nominatim(user_agent='school')\n",
    "location = geolocator.geocode('UCL')\n",
    "location.address"
   ]
  },
  {
   "cell_type": "code",
   "execution_count": 3,
   "metadata": {},
   "outputs": [
    {
     "data": {
      "text/plain": [
       "(-0.1329767170257194, 51.5235814)"
      ]
     },
     "execution_count": 3,
     "metadata": {},
     "output_type": "execute_result"
    }
   ],
   "source": [
    "long, lat = location.longitude, location.latitude \n",
    "long, lat"
   ]
  },
  {
   "cell_type": "code",
   "execution_count": 4,
   "metadata": {},
   "outputs": [],
   "source": [
    "class Place:\n",
    "    def __init__(self, position):\n",
    "        self.location = Nominatim(user_agent='school').geocode(position)\n",
    "        self.coordinate = self.location.longitude, self.location.latitude\n",
    "        self.lat = self.coordinate[1]\n",
    "        self.long = self.coordinate[0]\n",
    "        self.address = self.location[0]\n",
    "        self.nation = self.address.split(', ')[-1]\n"
   ]
  },
  {
   "cell_type": "code",
   "execution_count": 5,
   "metadata": {},
   "outputs": [
    {
     "data": {
      "text/plain": [
       "'United Kingdom'"
      ]
     },
     "execution_count": 5,
     "metadata": {},
     "output_type": "execute_result"
    }
   ],
   "source": [
    "ucl = Place('UCL')\n",
    "ucl.nation"
   ]
  },
  {
   "cell_type": "code",
   "execution_count": 6,
   "metadata": {},
   "outputs": [
    {
     "data": {
      "text/html": [
       "<div>\n",
       "<style scoped>\n",
       "    .dataframe tbody tr th:only-of-type {\n",
       "        vertical-align: middle;\n",
       "    }\n",
       "\n",
       "    .dataframe tbody tr th {\n",
       "        vertical-align: top;\n",
       "    }\n",
       "\n",
       "    .dataframe thead th {\n",
       "        text-align: right;\n",
       "    }\n",
       "</style>\n",
       "<table border=\"1\" class=\"dataframe\">\n",
       "  <thead>\n",
       "    <tr style=\"text-align: right;\">\n",
       "      <th></th>\n",
       "      <th>School</th>\n",
       "      <th>Times</th>\n",
       "    </tr>\n",
       "  </thead>\n",
       "  <tbody>\n",
       "    <tr>\n",
       "      <th>0</th>\n",
       "      <td>UCL</td>\n",
       "      <td>5</td>\n",
       "    </tr>\n",
       "    <tr>\n",
       "      <th>1</th>\n",
       "      <td>Cambridge University</td>\n",
       "      <td>10</td>\n",
       "    </tr>\n",
       "    <tr>\n",
       "      <th>2</th>\n",
       "      <td>Harvard University</td>\n",
       "      <td>6</td>\n",
       "    </tr>\n",
       "    <tr>\n",
       "      <th>3</th>\n",
       "      <td>Seoul University</td>\n",
       "      <td>7</td>\n",
       "    </tr>\n",
       "    <tr>\n",
       "      <th>4</th>\n",
       "      <td>University of Melbourne</td>\n",
       "      <td>1</td>\n",
       "    </tr>\n",
       "    <tr>\n",
       "      <th>5</th>\n",
       "      <td>Toronto University</td>\n",
       "      <td>3</td>\n",
       "    </tr>\n",
       "    <tr>\n",
       "      <th>6</th>\n",
       "      <td>Tokyo University</td>\n",
       "      <td>1</td>\n",
       "    </tr>\n",
       "    <tr>\n",
       "      <th>7</th>\n",
       "      <td>University of Cape Town</td>\n",
       "      <td>20</td>\n",
       "    </tr>\n",
       "  </tbody>\n",
       "</table>\n",
       "</div>"
      ],
      "text/plain": [
       "                    School  Times\n",
       "0                      UCL      5\n",
       "1     Cambridge University     10\n",
       "2       Harvard University      6\n",
       "3         Seoul University      7\n",
       "4  University of Melbourne      1\n",
       "5       Toronto University      3\n",
       "6         Tokyo University      1\n",
       "7  University of Cape Town     20"
      ]
     },
     "execution_count": 6,
     "metadata": {},
     "output_type": "execute_result"
    }
   ],
   "source": [
    "school_data = pd.read_csv('C:/Users/kanyu/OneDrive/桌面/School Location/Schools.csv', encoding='utf-8')\n",
    "school_data"
   ]
  },
  {
   "cell_type": "code",
   "execution_count": 7,
   "metadata": {},
   "outputs": [
    {
     "data": {
      "text/html": [
       "<div>\n",
       "<style scoped>\n",
       "    .dataframe tbody tr th:only-of-type {\n",
       "        vertical-align: middle;\n",
       "    }\n",
       "\n",
       "    .dataframe tbody tr th {\n",
       "        vertical-align: top;\n",
       "    }\n",
       "\n",
       "    .dataframe thead th {\n",
       "        text-align: right;\n",
       "    }\n",
       "</style>\n",
       "<table border=\"1\" class=\"dataframe\">\n",
       "  <thead>\n",
       "    <tr style=\"text-align: right;\">\n",
       "      <th></th>\n",
       "      <th>School</th>\n",
       "      <th>Times</th>\n",
       "      <th>Longtitude</th>\n",
       "      <th>Latitude</th>\n",
       "    </tr>\n",
       "  </thead>\n",
       "  <tbody>\n",
       "    <tr>\n",
       "      <th>0</th>\n",
       "      <td>UCL</td>\n",
       "      <td>5</td>\n",
       "      <td>-0.132977</td>\n",
       "      <td>51.523581</td>\n",
       "    </tr>\n",
       "    <tr>\n",
       "      <th>1</th>\n",
       "      <td>Cambridge University</td>\n",
       "      <td>10</td>\n",
       "      <td>-1.097175</td>\n",
       "      <td>50.794403</td>\n",
       "    </tr>\n",
       "    <tr>\n",
       "      <th>2</th>\n",
       "      <td>Harvard University</td>\n",
       "      <td>6</td>\n",
       "      <td>-71.126782</td>\n",
       "      <td>42.367909</td>\n",
       "    </tr>\n",
       "    <tr>\n",
       "      <th>3</th>\n",
       "      <td>Seoul University</td>\n",
       "      <td>7</td>\n",
       "      <td>126.952161</td>\n",
       "      <td>37.458115</td>\n",
       "    </tr>\n",
       "    <tr>\n",
       "      <th>4</th>\n",
       "      <td>University of Melbourne</td>\n",
       "      <td>1</td>\n",
       "      <td>144.961301</td>\n",
       "      <td>-37.797080</td>\n",
       "    </tr>\n",
       "    <tr>\n",
       "      <th>5</th>\n",
       "      <td>Toronto University</td>\n",
       "      <td>3</td>\n",
       "      <td>-79.384670</td>\n",
       "      <td>43.656119</td>\n",
       "    </tr>\n",
       "    <tr>\n",
       "      <th>6</th>\n",
       "      <td>Tokyo University</td>\n",
       "      <td>1</td>\n",
       "      <td>-79.416237</td>\n",
       "      <td>43.664361</td>\n",
       "    </tr>\n",
       "    <tr>\n",
       "      <th>7</th>\n",
       "      <td>University of Cape Town</td>\n",
       "      <td>20</td>\n",
       "      <td>18.467578</td>\n",
       "      <td>-33.956756</td>\n",
       "    </tr>\n",
       "  </tbody>\n",
       "</table>\n",
       "</div>"
      ],
      "text/plain": [
       "                    School  Times  Longtitude   Latitude\n",
       "0                      UCL      5   -0.132977  51.523581\n",
       "1     Cambridge University     10   -1.097175  50.794403\n",
       "2       Harvard University      6  -71.126782  42.367909\n",
       "3         Seoul University      7  126.952161  37.458115\n",
       "4  University of Melbourne      1  144.961301 -37.797080\n",
       "5       Toronto University      3  -79.384670  43.656119\n",
       "6         Tokyo University      1  -79.416237  43.664361\n",
       "7  University of Cape Town     20   18.467578 -33.956756"
      ]
     },
     "execution_count": 7,
     "metadata": {},
     "output_type": "execute_result"
    }
   ],
   "source": [
    "school_location_list = [Place(school_data['School'][i]) for i in range(school_data.shape[0])]\n",
    "school_data['Longtitude'] = [school_location_list[i].long for i in range(school_data.shape[0])]\n",
    "school_data['Latitude'] = [school_location_list[i].lat for i in range(school_data.shape[0])]\n",
    "school_data"
   ]
  },
  {
   "cell_type": "code",
   "execution_count": 8,
   "metadata": {},
   "outputs": [],
   "source": [
    "school_data.to_csv('Schools.csv', index=False)"
   ]
  },
  {
   "cell_type": "code",
   "execution_count": 9,
   "metadata": {},
   "outputs": [
    {
     "data": {
      "text/html": [
       "<div>\n",
       "<style scoped>\n",
       "    .dataframe tbody tr th:only-of-type {\n",
       "        vertical-align: middle;\n",
       "    }\n",
       "\n",
       "    .dataframe tbody tr th {\n",
       "        vertical-align: top;\n",
       "    }\n",
       "\n",
       "    .dataframe thead th {\n",
       "        text-align: right;\n",
       "    }\n",
       "</style>\n",
       "<table border=\"1\" class=\"dataframe\">\n",
       "  <thead>\n",
       "    <tr style=\"text-align: right;\">\n",
       "      <th></th>\n",
       "      <th>University</th>\n",
       "    </tr>\n",
       "  </thead>\n",
       "  <tbody>\n",
       "    <tr>\n",
       "      <th>0</th>\n",
       "      <td>NCKU</td>\n",
       "    </tr>\n",
       "    <tr>\n",
       "      <th>1</th>\n",
       "      <td>Tsinghua University</td>\n",
       "    </tr>\n",
       "    <tr>\n",
       "      <th>2</th>\n",
       "      <td>PolyU</td>\n",
       "    </tr>\n",
       "    <tr>\n",
       "      <th>3</th>\n",
       "      <td>UCL</td>\n",
       "    </tr>\n",
       "  </tbody>\n",
       "</table>\n",
       "</div>"
      ],
      "text/plain": [
       "            University\n",
       "0                 NCKU\n",
       "1  Tsinghua University\n",
       "2                PolyU\n",
       "3                  UCL"
      ]
     },
     "execution_count": 9,
     "metadata": {},
     "output_type": "execute_result"
    }
   ],
   "source": [
    "university_data = pd.read_csv('C:/Users/kanyu/OneDrive/桌面/School Location/Universities_I_have_been_to.csv', encoding='utf-8')\n",
    "university_data"
   ]
  },
  {
   "cell_type": "code",
   "execution_count": 10,
   "metadata": {
    "scrolled": true
   },
   "outputs": [
    {
     "data": {
      "text/html": [
       "<div>\n",
       "<style scoped>\n",
       "    .dataframe tbody tr th:only-of-type {\n",
       "        vertical-align: middle;\n",
       "    }\n",
       "\n",
       "    .dataframe tbody tr th {\n",
       "        vertical-align: top;\n",
       "    }\n",
       "\n",
       "    .dataframe thead th {\n",
       "        text-align: right;\n",
       "    }\n",
       "</style>\n",
       "<table border=\"1\" class=\"dataframe\">\n",
       "  <thead>\n",
       "    <tr style=\"text-align: right;\">\n",
       "      <th></th>\n",
       "      <th>University</th>\n",
       "      <th>Nation</th>\n",
       "      <th>Address</th>\n",
       "      <th>Longtitude</th>\n",
       "      <th>Latitude</th>\n",
       "    </tr>\n",
       "  </thead>\n",
       "  <tbody>\n",
       "    <tr>\n",
       "      <th>0</th>\n",
       "      <td>NCKU</td>\n",
       "      <td>臺灣</td>\n",
       "      <td>總圖書館, 1, 大學路, 大學里, 東區, 臺南市, 70101, 臺灣</td>\n",
       "      <td>120.219883</td>\n",
       "      <td>22.999860</td>\n",
       "    </tr>\n",
       "    <tr>\n",
       "      <th>1</th>\n",
       "      <td>Tsinghua University</td>\n",
       "      <td>中国</td>\n",
       "      <td>清华大学, 30, 双清路, 五道口, 海淀区, 北京市, 100084, 中国</td>\n",
       "      <td>116.320963</td>\n",
       "      <td>40.002290</td>\n",
       "    </tr>\n",
       "    <tr>\n",
       "      <th>2</th>\n",
       "      <td>PolyU</td>\n",
       "      <td>中国</td>\n",
       "      <td>香港理工大學 The Hong Kong Polytechnic University, 1...</td>\n",
       "      <td>114.179693</td>\n",
       "      <td>22.304487</td>\n",
       "    </tr>\n",
       "    <tr>\n",
       "      <th>3</th>\n",
       "      <td>UCL</td>\n",
       "      <td>United Kingdom</td>\n",
       "      <td>Petrie Museum of Egyptian Archeology, Malet Pl...</td>\n",
       "      <td>-0.132977</td>\n",
       "      <td>51.523581</td>\n",
       "    </tr>\n",
       "  </tbody>\n",
       "</table>\n",
       "</div>"
      ],
      "text/plain": [
       "            University          Nation  \\\n",
       "0                 NCKU              臺灣   \n",
       "1  Tsinghua University              中国   \n",
       "2                PolyU              中国   \n",
       "3                  UCL  United Kingdom   \n",
       "\n",
       "                                             Address  Longtitude   Latitude  \n",
       "0              總圖書館, 1, 大學路, 大學里, 東區, 臺南市, 70101, 臺灣  120.219883  22.999860  \n",
       "1           清华大学, 30, 双清路, 五道口, 海淀区, 北京市, 100084, 中国  116.320963  40.002290  \n",
       "2  香港理工大學 The Hong Kong Polytechnic University, 1...  114.179693  22.304487  \n",
       "3  Petrie Museum of Egyptian Archeology, Malet Pl...   -0.132977  51.523581  "
      ]
     },
     "execution_count": 10,
     "metadata": {},
     "output_type": "execute_result"
    }
   ],
   "source": [
    "university_location_list = [Place(university_data['University'][i]) for i in range(university_data.shape[0])]\n",
    "university_data['Nation'] = [university_location_list[i].nation for i in range(university_data.shape[0])]\n",
    "university_data['Address'] = [university_location_list[i].address for i in range(university_data.shape[0])]\n",
    "university_data['Longtitude'] = [university_location_list[i].long for i in range(university_data.shape[0])]\n",
    "university_data['Latitude'] = [university_location_list[i].lat for i in range(university_data.shape[0])]\n",
    "university_data\n"
   ]
  },
  {
   "cell_type": "code",
   "execution_count": 11,
   "metadata": {},
   "outputs": [],
   "source": [
    "university_data.to_csv('Universities_I_have_been_to.csv', index=False)"
   ]
  },
  {
   "cell_type": "code",
   "execution_count": null,
   "metadata": {},
   "outputs": [],
   "source": []
  }
 ],
 "metadata": {
  "kernelspec": {
   "display_name": "Python 3",
   "language": "python",
   "name": "python3"
  },
  "language_info": {
   "codemirror_mode": {
    "name": "ipython",
    "version": 3
   },
   "file_extension": ".py",
   "mimetype": "text/x-python",
   "name": "python",
   "nbconvert_exporter": "python",
   "pygments_lexer": "ipython3",
   "version": "3.8.3"
  }
 },
 "nbformat": 4,
 "nbformat_minor": 4
}
